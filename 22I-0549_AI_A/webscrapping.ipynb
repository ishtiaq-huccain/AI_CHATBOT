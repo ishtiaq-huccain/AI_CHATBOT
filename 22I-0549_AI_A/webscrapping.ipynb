{
 "cells": [
  {
   "cell_type": "code",
   "execution_count": 11,
   "id": "bcc98596",
   "metadata": {},
   "outputs": [],
   "source": [
    "#Importing the necessary libraries\n",
    "\n",
    "from selenium import webdriver\n",
    "from selenium.webdriver.chrome.options import Options\n",
    "from selenium.webdriver.common.keys import Keys\n",
    "from selenium.webdriver.common.by import By\n",
    "from selenium.common.exceptions import NoSuchElementException"
   ]
  },
  {
   "cell_type": "code",
   "execution_count": 18,
   "id": "03084667",
   "metadata": {},
   "outputs": [],
   "source": [
    "from selenium import webdriver\n",
    "from selenium.webdriver.chrome.service import Service as ChromeService\n",
    "from webdriver_manager.chrome import ChromeDriverManager\n",
    "\n",
    "driver = webdriver.Chrome(service=ChromeService(ChromeDriverManager().install()))"
   ]
  },
  {
   "cell_type": "code",
   "execution_count": 19,
   "id": "3a39edf5",
   "metadata": {},
   "outputs": [],
   "source": [
    "url = \"https://www.daraz.com/\"            \n",
    "driver.get(url)    "
   ]
  },
  {
   "cell_type": "code",
   "execution_count": 20,
   "id": "70612aee",
   "metadata": {},
   "outputs": [
    {
     "ename": "NoSuchWindowException",
     "evalue": "Message: no such window: target window already closed\nfrom unknown error: web view not found\n  (Session info: chrome=119.0.6045.200)\nStacktrace:\n\tGetHandleVerifier [0x002872A3+45731]\n\t(No symbol) [0x00212D51]\n\t(No symbol) [0x0010880D]\n\t(No symbol) [0x000EF75E]\n\t(No symbol) [0x0015C11B]\n\t(No symbol) [0x0016B2D3]\n\t(No symbol) [0x00157DD6]\n\t(No symbol) [0x001331F6]\n\t(No symbol) [0x0013439D]\n\tGetHandleVerifier [0x00590716+3229462]\n\tGetHandleVerifier [0x005D84C8+3523784]\n\tGetHandleVerifier [0x005D214C+3498316]\n\tGetHandleVerifier [0x00311680+611968]\n\t(No symbol) [0x0021CCCC]\n\t(No symbol) [0x00218DF8]\n\t(No symbol) [0x00218F1D]\n\t(No symbol) [0x0020B2C7]\n\tBaseThreadInitThunk [0x74D5FCC9+25]\n\tRtlGetAppContainerNamedObjectPath [0x76F07C6E+286]\n\tRtlGetAppContainerNamedObjectPath [0x76F07C3E+238]\n\t(No symbol) [0x00000000]\n",
     "output_type": "error",
     "traceback": [
      "\u001b[1;31m---------------------------------------------------------------------------\u001b[0m",
      "\u001b[1;31mNoSuchWindowException\u001b[0m                     Traceback (most recent call last)",
      "Cell \u001b[1;32mIn[20], line 1\u001b[0m\n\u001b[1;32m----> 1\u001b[0m search \u001b[38;5;241m=\u001b[39m driver\u001b[38;5;241m.\u001b[39mfind_element(By\u001b[38;5;241m.\u001b[39mXPATH,\u001b[38;5;124m\"\u001b[39m\u001b[38;5;124m/html/body/div[1]/header/div/div[1]/div[2]/div/form/div[2]/div[1]/input\u001b[39m\u001b[38;5;124m\"\u001b[39m)\n\u001b[0;32m      2\u001b[0m search\u001b[38;5;241m.\u001b[39msend_keys(\u001b[38;5;124m'\u001b[39m\u001b[38;5;124mPhones\u001b[39m\u001b[38;5;124m'\u001b[39m \u001b[38;5;241m+\u001b[39m Keys\u001b[38;5;241m.\u001b[39mRETURN)\n",
      "File \u001b[1;32m~\\anaconda3\\Lib\\site-packages\\selenium\\webdriver\\remote\\webdriver.py:741\u001b[0m, in \u001b[0;36mWebDriver.find_element\u001b[1;34m(self, by, value)\u001b[0m\n\u001b[0;32m    738\u001b[0m     by \u001b[38;5;241m=\u001b[39m By\u001b[38;5;241m.\u001b[39mCSS_SELECTOR\n\u001b[0;32m    739\u001b[0m     value \u001b[38;5;241m=\u001b[39m \u001b[38;5;124mf\u001b[39m\u001b[38;5;124m'\u001b[39m\u001b[38;5;124m[name=\u001b[39m\u001b[38;5;124m\"\u001b[39m\u001b[38;5;132;01m{\u001b[39;00mvalue\u001b[38;5;132;01m}\u001b[39;00m\u001b[38;5;124m\"\u001b[39m\u001b[38;5;124m]\u001b[39m\u001b[38;5;124m'\u001b[39m\n\u001b[1;32m--> 741\u001b[0m \u001b[38;5;28;01mreturn\u001b[39;00m \u001b[38;5;28mself\u001b[39m\u001b[38;5;241m.\u001b[39mexecute(Command\u001b[38;5;241m.\u001b[39mFIND_ELEMENT, {\u001b[38;5;124m\"\u001b[39m\u001b[38;5;124musing\u001b[39m\u001b[38;5;124m\"\u001b[39m: by, \u001b[38;5;124m\"\u001b[39m\u001b[38;5;124mvalue\u001b[39m\u001b[38;5;124m\"\u001b[39m: value})[\u001b[38;5;124m\"\u001b[39m\u001b[38;5;124mvalue\u001b[39m\u001b[38;5;124m\"\u001b[39m]\n",
      "File \u001b[1;32m~\\anaconda3\\Lib\\site-packages\\selenium\\webdriver\\remote\\webdriver.py:347\u001b[0m, in \u001b[0;36mWebDriver.execute\u001b[1;34m(self, driver_command, params)\u001b[0m\n\u001b[0;32m    345\u001b[0m response \u001b[38;5;241m=\u001b[39m \u001b[38;5;28mself\u001b[39m\u001b[38;5;241m.\u001b[39mcommand_executor\u001b[38;5;241m.\u001b[39mexecute(driver_command, params)\n\u001b[0;32m    346\u001b[0m \u001b[38;5;28;01mif\u001b[39;00m response:\n\u001b[1;32m--> 347\u001b[0m     \u001b[38;5;28mself\u001b[39m\u001b[38;5;241m.\u001b[39merror_handler\u001b[38;5;241m.\u001b[39mcheck_response(response)\n\u001b[0;32m    348\u001b[0m     response[\u001b[38;5;124m\"\u001b[39m\u001b[38;5;124mvalue\u001b[39m\u001b[38;5;124m\"\u001b[39m] \u001b[38;5;241m=\u001b[39m \u001b[38;5;28mself\u001b[39m\u001b[38;5;241m.\u001b[39m_unwrap_value(response\u001b[38;5;241m.\u001b[39mget(\u001b[38;5;124m\"\u001b[39m\u001b[38;5;124mvalue\u001b[39m\u001b[38;5;124m\"\u001b[39m, \u001b[38;5;28;01mNone\u001b[39;00m))\n\u001b[0;32m    349\u001b[0m     \u001b[38;5;28;01mreturn\u001b[39;00m response\n",
      "File \u001b[1;32m~\\anaconda3\\Lib\\site-packages\\selenium\\webdriver\\remote\\errorhandler.py:229\u001b[0m, in \u001b[0;36mErrorHandler.check_response\u001b[1;34m(self, response)\u001b[0m\n\u001b[0;32m    227\u001b[0m         alert_text \u001b[38;5;241m=\u001b[39m value[\u001b[38;5;124m\"\u001b[39m\u001b[38;5;124malert\u001b[39m\u001b[38;5;124m\"\u001b[39m]\u001b[38;5;241m.\u001b[39mget(\u001b[38;5;124m\"\u001b[39m\u001b[38;5;124mtext\u001b[39m\u001b[38;5;124m\"\u001b[39m)\n\u001b[0;32m    228\u001b[0m     \u001b[38;5;28;01mraise\u001b[39;00m exception_class(message, screen, stacktrace, alert_text)  \u001b[38;5;66;03m# type: ignore[call-arg]  # mypy is not smart enough here\u001b[39;00m\n\u001b[1;32m--> 229\u001b[0m \u001b[38;5;28;01mraise\u001b[39;00m exception_class(message, screen, stacktrace)\n",
      "\u001b[1;31mNoSuchWindowException\u001b[0m: Message: no such window: target window already closed\nfrom unknown error: web view not found\n  (Session info: chrome=119.0.6045.200)\nStacktrace:\n\tGetHandleVerifier [0x002872A3+45731]\n\t(No symbol) [0x00212D51]\n\t(No symbol) [0x0010880D]\n\t(No symbol) [0x000EF75E]\n\t(No symbol) [0x0015C11B]\n\t(No symbol) [0x0016B2D3]\n\t(No symbol) [0x00157DD6]\n\t(No symbol) [0x001331F6]\n\t(No symbol) [0x0013439D]\n\tGetHandleVerifier [0x00590716+3229462]\n\tGetHandleVerifier [0x005D84C8+3523784]\n\tGetHandleVerifier [0x005D214C+3498316]\n\tGetHandleVerifier [0x00311680+611968]\n\t(No symbol) [0x0021CCCC]\n\t(No symbol) [0x00218DF8]\n\t(No symbol) [0x00218F1D]\n\t(No symbol) [0x0020B2C7]\n\tBaseThreadInitThunk [0x74D5FCC9+25]\n\tRtlGetAppContainerNamedObjectPath [0x76F07C6E+286]\n\tRtlGetAppContainerNamedObjectPath [0x76F07C3E+238]\n\t(No symbol) [0x00000000]\n"
     ]
    }
   ],
   "source": [
    "search = driver.find_element(By.XPATH,\"/html/body/div[1]/header/div/div[1]/div[2]/div/form/div[2]/div[1]/input\")\n",
    "search.send_keys('Phones' + Keys.RETURN)\n"
   ]
  },
  {
   "cell_type": "code",
   "execution_count": 6,
   "id": "880aefa7",
   "metadata": {
    "scrolled": true
   },
   "outputs": [
    {
     "name": "stdout",
     "output_type": "stream",
     "text": [
      "scrappiung page  1\n"
     ]
    },
    {
     "ename": "NoSuchElementException",
     "evalue": "Message: no such element: Unable to locate element: {\"method\":\"xpath\",\"selector\":\"/html/body/div[1]/div[1]/div[1]/div[1]/div/span[1]/div[1]/div[26]/div/div/span/a[4]\"}\n  (Session info: chrome=119.0.6045.200); For documentation on this error, please visit: https://www.selenium.dev/documentation/webdriver/troubleshooting/errors#no-such-element-exception\nStacktrace:\n\tGetHandleVerifier [0x002872A3+45731]\n\t(No symbol) [0x00212D51]\n\t(No symbol) [0x0010880D]\n\t(No symbol) [0x0013B940]\n\t(No symbol) [0x0013BE0B]\n\t(No symbol) [0x0016D1F2]\n\t(No symbol) [0x00158024]\n\t(No symbol) [0x0016B7A2]\n\t(No symbol) [0x00157DD6]\n\t(No symbol) [0x001331F6]\n\t(No symbol) [0x0013439D]\n\tGetHandleVerifier [0x00590716+3229462]\n\tGetHandleVerifier [0x005D84C8+3523784]\n\tGetHandleVerifier [0x005D214C+3498316]\n\tGetHandleVerifier [0x00311680+611968]\n\t(No symbol) [0x0021CCCC]\n\t(No symbol) [0x00218DF8]\n\t(No symbol) [0x00218F1D]\n\t(No symbol) [0x0020B2C7]\n\tBaseThreadInitThunk [0x74D5FCC9+25]\n\tRtlGetAppContainerNamedObjectPath [0x76F07C6E+286]\n\tRtlGetAppContainerNamedObjectPath [0x76F07C3E+238]\n\t(No symbol) [0x00000000]\n",
     "output_type": "error",
     "traceback": [
      "\u001b[1;31m---------------------------------------------------------------------------\u001b[0m",
      "\u001b[1;31mNoSuchElementException\u001b[0m                    Traceback (most recent call last)",
      "Cell \u001b[1;32mIn[6], line 8\u001b[0m\n\u001b[0;32m      6\u001b[0m \u001b[38;5;28;01mfor\u001b[39;00m p \u001b[38;5;129;01min\u001b[39;00m product:\n\u001b[0;32m      7\u001b[0m     products\u001b[38;5;241m.\u001b[39mappend(p\u001b[38;5;241m.\u001b[39mtext)\n\u001b[1;32m----> 8\u001b[0m next_button \u001b[38;5;241m=\u001b[39m driver\u001b[38;5;241m.\u001b[39mfind_element(By\u001b[38;5;241m.\u001b[39mXPATH,\u001b[38;5;124m\"\u001b[39m\u001b[38;5;124m/html/body/div[1]/div[1]/div[1]/div[1]/div/span[1]/div[1]/div[26]/div/div/span/a[4]\u001b[39m\u001b[38;5;124m\"\u001b[39m)\n\u001b[0;32m      9\u001b[0m next_button\u001b[38;5;241m.\u001b[39mclick()\n\u001b[0;32m     10\u001b[0m time\u001b[38;5;241m.\u001b[39msleep(\u001b[38;5;241m2\u001b[39m)\n",
      "File \u001b[1;32m~\\anaconda3\\Lib\\site-packages\\selenium\\webdriver\\remote\\webdriver.py:741\u001b[0m, in \u001b[0;36mWebDriver.find_element\u001b[1;34m(self, by, value)\u001b[0m\n\u001b[0;32m    738\u001b[0m     by \u001b[38;5;241m=\u001b[39m By\u001b[38;5;241m.\u001b[39mCSS_SELECTOR\n\u001b[0;32m    739\u001b[0m     value \u001b[38;5;241m=\u001b[39m \u001b[38;5;124mf\u001b[39m\u001b[38;5;124m'\u001b[39m\u001b[38;5;124m[name=\u001b[39m\u001b[38;5;124m\"\u001b[39m\u001b[38;5;132;01m{\u001b[39;00mvalue\u001b[38;5;132;01m}\u001b[39;00m\u001b[38;5;124m\"\u001b[39m\u001b[38;5;124m]\u001b[39m\u001b[38;5;124m'\u001b[39m\n\u001b[1;32m--> 741\u001b[0m \u001b[38;5;28;01mreturn\u001b[39;00m \u001b[38;5;28mself\u001b[39m\u001b[38;5;241m.\u001b[39mexecute(Command\u001b[38;5;241m.\u001b[39mFIND_ELEMENT, {\u001b[38;5;124m\"\u001b[39m\u001b[38;5;124musing\u001b[39m\u001b[38;5;124m\"\u001b[39m: by, \u001b[38;5;124m\"\u001b[39m\u001b[38;5;124mvalue\u001b[39m\u001b[38;5;124m\"\u001b[39m: value})[\u001b[38;5;124m\"\u001b[39m\u001b[38;5;124mvalue\u001b[39m\u001b[38;5;124m\"\u001b[39m]\n",
      "File \u001b[1;32m~\\anaconda3\\Lib\\site-packages\\selenium\\webdriver\\remote\\webdriver.py:347\u001b[0m, in \u001b[0;36mWebDriver.execute\u001b[1;34m(self, driver_command, params)\u001b[0m\n\u001b[0;32m    345\u001b[0m response \u001b[38;5;241m=\u001b[39m \u001b[38;5;28mself\u001b[39m\u001b[38;5;241m.\u001b[39mcommand_executor\u001b[38;5;241m.\u001b[39mexecute(driver_command, params)\n\u001b[0;32m    346\u001b[0m \u001b[38;5;28;01mif\u001b[39;00m response:\n\u001b[1;32m--> 347\u001b[0m     \u001b[38;5;28mself\u001b[39m\u001b[38;5;241m.\u001b[39merror_handler\u001b[38;5;241m.\u001b[39mcheck_response(response)\n\u001b[0;32m    348\u001b[0m     response[\u001b[38;5;124m\"\u001b[39m\u001b[38;5;124mvalue\u001b[39m\u001b[38;5;124m\"\u001b[39m] \u001b[38;5;241m=\u001b[39m \u001b[38;5;28mself\u001b[39m\u001b[38;5;241m.\u001b[39m_unwrap_value(response\u001b[38;5;241m.\u001b[39mget(\u001b[38;5;124m\"\u001b[39m\u001b[38;5;124mvalue\u001b[39m\u001b[38;5;124m\"\u001b[39m, \u001b[38;5;28;01mNone\u001b[39;00m))\n\u001b[0;32m    349\u001b[0m     \u001b[38;5;28;01mreturn\u001b[39;00m response\n",
      "File \u001b[1;32m~\\anaconda3\\Lib\\site-packages\\selenium\\webdriver\\remote\\errorhandler.py:229\u001b[0m, in \u001b[0;36mErrorHandler.check_response\u001b[1;34m(self, response)\u001b[0m\n\u001b[0;32m    227\u001b[0m         alert_text \u001b[38;5;241m=\u001b[39m value[\u001b[38;5;124m\"\u001b[39m\u001b[38;5;124malert\u001b[39m\u001b[38;5;124m\"\u001b[39m]\u001b[38;5;241m.\u001b[39mget(\u001b[38;5;124m\"\u001b[39m\u001b[38;5;124mtext\u001b[39m\u001b[38;5;124m\"\u001b[39m)\n\u001b[0;32m    228\u001b[0m     \u001b[38;5;28;01mraise\u001b[39;00m exception_class(message, screen, stacktrace, alert_text)  \u001b[38;5;66;03m# type: ignore[call-arg]  # mypy is not smart enough here\u001b[39;00m\n\u001b[1;32m--> 229\u001b[0m \u001b[38;5;28;01mraise\u001b[39;00m exception_class(message, screen, stacktrace)\n",
      "\u001b[1;31mNoSuchElementException\u001b[0m: Message: no such element: Unable to locate element: {\"method\":\"xpath\",\"selector\":\"/html/body/div[1]/div[1]/div[1]/div[1]/div/span[1]/div[1]/div[26]/div/div/span/a[4]\"}\n  (Session info: chrome=119.0.6045.200); For documentation on this error, please visit: https://www.selenium.dev/documentation/webdriver/troubleshooting/errors#no-such-element-exception\nStacktrace:\n\tGetHandleVerifier [0x002872A3+45731]\n\t(No symbol) [0x00212D51]\n\t(No symbol) [0x0010880D]\n\t(No symbol) [0x0013B940]\n\t(No symbol) [0x0013BE0B]\n\t(No symbol) [0x0016D1F2]\n\t(No symbol) [0x00158024]\n\t(No symbol) [0x0016B7A2]\n\t(No symbol) [0x00157DD6]\n\t(No symbol) [0x001331F6]\n\t(No symbol) [0x0013439D]\n\tGetHandleVerifier [0x00590716+3229462]\n\tGetHandleVerifier [0x005D84C8+3523784]\n\tGetHandleVerifier [0x005D214C+3498316]\n\tGetHandleVerifier [0x00311680+611968]\n\t(No symbol) [0x0021CCCC]\n\t(No symbol) [0x00218DF8]\n\t(No symbol) [0x00218F1D]\n\t(No symbol) [0x0020B2C7]\n\tBaseThreadInitThunk [0x74D5FCC9+25]\n\tRtlGetAppContainerNamedObjectPath [0x76F07C6E+286]\n\tRtlGetAppContainerNamedObjectPath [0x76F07C3E+238]\n\t(No symbol) [0x00000000]\n"
     ]
    }
   ],
   "source": [
    "import time\n",
    "products =[]\n",
    "for i in range(5):\n",
    "    print(\"scrappiung page \",i+1)\n",
    "    product = driver.find_elements(By.CLASS_NAME,'a-size-medium a-color-base a-text-normal')\n",
    "    for p in product:\n",
    "        products.append(p.text)\n",
    "    next_button = driver.find_element(By.XPATH,\"/html/body/div[1]/div[1]/div[1]/div[1]/div/span[1]/div[1]/div[26]/div/div/span/a[4]\")\n",
    "    next_button.click()\n",
    "    time.sleep(2)\n",
    "    \n"
   ]
  },
  {
   "cell_type": "code",
   "execution_count": null,
   "id": "09763d67",
   "metadata": {},
   "outputs": [],
   "source": []
  }
 ],
 "metadata": {
  "kernelspec": {
   "display_name": "Python 3 (ipykernel)",
   "language": "python",
   "name": "python3"
  },
  "language_info": {
   "codemirror_mode": {
    "name": "ipython",
    "version": 3
   },
   "file_extension": ".py",
   "mimetype": "text/x-python",
   "name": "python",
   "nbconvert_exporter": "python",
   "pygments_lexer": "ipython3",
   "version": "3.11.5"
  }
 },
 "nbformat": 4,
 "nbformat_minor": 5
}
